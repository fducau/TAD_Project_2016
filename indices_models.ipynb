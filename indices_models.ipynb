{
 "cells": [
  {
   "cell_type": "code",
   "execution_count": 119,
   "metadata": {
    "collapsed": false
   },
   "outputs": [],
   "source": [
    "import pandas as pd\n",
    "import numpy as np\n",
    "from sklearn.cross_validation import train_test_split\n",
    "from sklearn.linear_model import RidgeClassifier, LogisticRegression\n",
    "from sklearn.svm import LinearSVC, SVC\n",
    "from sklearn.ensemble import RandomForestClassifier\n",
    "from sklearn.ensemble import AdaBoostClassifier\n",
    "from sklearn.ensemble import GradientBoostingClassifier\n",
    "\n",
    "\n",
    "from sklearn.grid_search import GridSearchCV\n",
    "from sklearn.metrics import auc, accuracy_score, roc_auc_score, roc_curve\n",
    "import matplotlib.pyplot as plt\n",
    "from sklearn import cross_validation\n",
    "\n",
    "%matplotlib inline\n"
   ]
  },
  {
   "cell_type": "markdown",
   "metadata": {},
   "source": [
    "## Dataset preparation"
   ]
  },
  {
   "cell_type": "code",
   "execution_count": 120,
   "metadata": {
    "collapsed": false,
    "scrolled": true
   },
   "outputs": [],
   "source": [
    "index_ds = pd.read_csv('./index_ds.csv', index_col='Study.Num')"
   ]
  },
  {
   "cell_type": "code",
   "execution_count": 121,
   "metadata": {
    "collapsed": false
   },
   "outputs": [],
   "source": [
    "readability = pd.read_csv('./features/readability.csv', index_col='Study.Num')\n",
    "references = pd.read_csv('./features/references.csv', index_col='name')"
   ]
  },
  {
   "cell_type": "code",
   "execution_count": 122,
   "metadata": {
    "collapsed": false
   },
   "outputs": [],
   "source": [
    "liwc_features = ['Analytic',\n",
    "'Clout',\n",
    "'Authentic',\n",
    "'Tone',\n",
    "'WPS',\n",
    "'Sixltr',\n",
    "'Dic',\n",
    "'function.',\n",
    "'pronoun',\n",
    "'ppron',\n",
    "'i',\n",
    "'we',\n",
    "'you',\n",
    "'shehe',\n",
    "'they',\n",
    "'ipron',\n",
    "'prep',\n",
    "'adverb',\n",
    "'conj',\n",
    "'negate',\n",
    "'compare',\n",
    "'number',\n",
    "'quant',\n",
    "'cogproc',\n",
    "'insight',\n",
    "'cause',\n",
    "'discrep',\n",
    "'tentat',\n",
    "'certain',\n",
    "'differ']"
   ]
  },
  {
   "cell_type": "code",
   "execution_count": 123,
   "metadata": {
    "collapsed": true
   },
   "outputs": [],
   "source": [
    "drop_cols = []\n",
    "for col in index_ds.columns:\n",
    "    if (col not in liwc_features) and (col!='replicate'):\n",
    "        drop_cols.append(col)"
   ]
  },
  {
   "cell_type": "code",
   "execution_count": 124,
   "metadata": {
    "collapsed": true
   },
   "outputs": [],
   "source": [
    "index_ds = index_ds.drop(drop_cols,1)"
   ]
  },
  {
   "cell_type": "code",
   "execution_count": 125,
   "metadata": {
    "collapsed": false
   },
   "outputs": [
    {
     "data": {
      "text/plain": [
       "(118, 31)"
      ]
     },
     "execution_count": 125,
     "metadata": {},
     "output_type": "execute_result"
    }
   ],
   "source": [
    "index_ds.shape"
   ]
  },
  {
   "cell_type": "code",
   "execution_count": 126,
   "metadata": {
    "collapsed": false
   },
   "outputs": [],
   "source": [
    "ds = index_ds.merge(readability, left_index=True, right_index=True)\n",
    "ds = ds.merge(references, left_index=True, right_index=True)"
   ]
  },
  {
   "cell_type": "code",
   "execution_count": 127,
   "metadata": {
    "collapsed": true
   },
   "outputs": [],
   "source": [
    "results = pd.DataFrame(columns=['acc', 'classifier'])"
   ]
  },
  {
   "cell_type": "markdown",
   "metadata": {},
   "source": [
    "## Ridge Classifier"
   ]
  },
  {
   "cell_type": "code",
   "execution_count": 301,
   "metadata": {
    "collapsed": true
   },
   "outputs": [],
   "source": [
    "N = 100\n",
    "accuracy = []\n",
    "alpha = []"
   ]
  },
  {
   "cell_type": "code",
   "execution_count": 302,
   "metadata": {
    "collapsed": true
   },
   "outputs": [],
   "source": [
    "lr = RidgeClassifier()\n",
    "params = {'alpha':np.logspace(-5,3,30)}\n",
    "gs = GridSearchCV(lr, param_grid=params, scoring='accuracy', n_jobs=4)"
   ]
  },
  {
   "cell_type": "code",
   "execution_count": 303,
   "metadata": {
    "collapsed": false
   },
   "outputs": [],
   "source": [
    "for i in range(N):\n",
    "\n",
    "    train, test = train_test_split(ds, train_size=0.9)\n",
    "    X_train = train.drop('replicate',1)\n",
    "    y_train = train.replicate\n",
    "    X_test = test.drop('replicate',1)\n",
    "    y_test = test.replicate\n",
    "    \n",
    "    gs.fit(X_train, y_train)\n",
    "    pred = gs.predict(X_test)\n",
    "    acc = accuracy_score(pred, y_test)\n",
    "    accuracy.append(acc)\n",
    "    alpha.append(gs.best_estimator_.alpha)\n",
    "    "
   ]
  },
  {
   "cell_type": "code",
   "execution_count": 131,
   "metadata": {
    "collapsed": false
   },
   "outputs": [],
   "source": [
    "res = pd.DataFrame([accuracy, ['ridge']*N])\n",
    "res = res.T\n",
    "res.columns = ['acc', 'classifier']\n",
    "results = results.append(res)"
   ]
  },
  {
   "cell_type": "code",
   "execution_count": 315,
   "metadata": {
    "collapsed": false
   },
   "outputs": [
    {
     "data": {
      "text/plain": [
       "GridSearchCV(cv=None, error_score='raise',\n",
       "       estimator=RidgeClassifier(alpha=1.0, class_weight=None, copy_X=True, fit_intercept=True,\n",
       "        max_iter=None, normalize=False, random_state=None, solver='auto',\n",
       "        tol=0.001),\n",
       "       fit_params={}, iid=True, n_jobs=4,\n",
       "       param_grid={'alpha': array([  1.00000e-05,   1.88739e-05,   3.56225e-05,   6.72336e-05,\n",
       "         1.26896e-04,   2.39503e-04,   4.52035e-04,   8.53168e-04,\n",
       "         1.61026e-03,   3.03920e-03,   5.73615e-03,   1.08264e-02,\n",
       "         2.04336e-02,   3.85662e-02,   7.27895e-02,   1.37382e-01,\n",
       "         2....    4.17532e+01,   7.88046e+01,   1.48735e+02,   2.80722e+02,\n",
       "         5.29832e+02,   1.00000e+03])},\n",
       "       pre_dispatch='2*n_jobs', refit=True, scoring='accuracy', verbose=0)"
      ]
     },
     "execution_count": 315,
     "metadata": {},
     "output_type": "execute_result"
    }
   ],
   "source": [
    "gs"
   ]
  },
  {
   "cell_type": "code",
   "execution_count": 310,
   "metadata": {
    "collapsed": false
   },
   "outputs": [
    {
     "ename": "SyntaxError",
     "evalue": "invalid syntax (<ipython-input-310-f704c1a6eade>, line 1)",
     "output_type": "error",
     "traceback": [
      "\u001b[1;36m  File \u001b[1;32m\"<ipython-input-310-f704c1a6eade>\"\u001b[1;36m, line \u001b[1;32m1\u001b[0m\n\u001b[1;33m    ridge.\u001b[0m\n\u001b[1;37m          ^\u001b[0m\n\u001b[1;31mSyntaxError\u001b[0m\u001b[1;31m:\u001b[0m invalid syntax\n"
     ]
    }
   ],
   "source": []
  },
  {
   "cell_type": "markdown",
   "metadata": {},
   "source": [
    "## Logistic L2"
   ]
  },
  {
   "cell_type": "code",
   "execution_count": 132,
   "metadata": {
    "collapsed": true
   },
   "outputs": [],
   "source": [
    "N = 100\n",
    "accuracy = []\n",
    "alpha = []"
   ]
  },
  {
   "cell_type": "code",
   "execution_count": 133,
   "metadata": {
    "collapsed": true
   },
   "outputs": [],
   "source": [
    "lr = LogisticRegression(penalty='l2')\n",
    "params = {'C':np.logspace(-4,3,30)}\n",
    "gs = GridSearchCV(lr, param_grid=params, scoring='accuracy', n_jobs=4)"
   ]
  },
  {
   "cell_type": "code",
   "execution_count": 134,
   "metadata": {
    "collapsed": false
   },
   "outputs": [],
   "source": [
    "for i in range(N):\n",
    "\n",
    "    train, test = train_test_split(ds, train_size=0.9)\n",
    "    X_train = train.drop('replicate',1)\n",
    "    y_train = train.replicate\n",
    "    X_test = test.drop('replicate',1)\n",
    "    y_test = test.replicate\n",
    "    \n",
    "    gs.fit(X_train, y_train)\n",
    "    pred = gs.predict(X_test)\n",
    "    acc = accuracy_score(pred, y_test)\n",
    "    accuracy.append(acc)\n",
    "    alpha.append(gs.best_estimator_.C)"
   ]
  },
  {
   "cell_type": "code",
   "execution_count": 135,
   "metadata": {
    "collapsed": false
   },
   "outputs": [],
   "source": [
    "res = pd.DataFrame([accuracy, ['logistic_l2']*N])\n",
    "res = res.T\n",
    "res.columns = ['acc', 'classifier']\n",
    "results = results.append(res)"
   ]
  },
  {
   "cell_type": "markdown",
   "metadata": {},
   "source": [
    "## Logistic L1"
   ]
  },
  {
   "cell_type": "code",
   "execution_count": 136,
   "metadata": {
    "collapsed": true
   },
   "outputs": [],
   "source": [
    "lr = LogisticRegression(penalty='l1')\n",
    "params = {'C':np.logspace(-4,3,30)}\n",
    "gs = GridSearchCV(lr, param_grid=params, scoring='accuracy', n_jobs=4)\n",
    "N = 50\n",
    "accuracy = []\n",
    "alpha = []"
   ]
  },
  {
   "cell_type": "code",
   "execution_count": 137,
   "metadata": {
    "collapsed": false
   },
   "outputs": [],
   "source": [
    "for i in range(N):\n",
    "\n",
    "    train, test = train_test_split(ds, train_size=0.9)\n",
    "    X_train = train.drop('replicate',1)\n",
    "    y_train = train.replicate\n",
    "    X_test = test.drop('replicate',1)\n",
    "    y_test = test.replicate\n",
    "    \n",
    "    gs.fit(X_train, y_train)\n",
    "    pred = gs.predict(X_test)\n",
    "    acc = accuracy_score(pred, y_test)\n",
    "    accuracy.append(acc)\n",
    "    alpha.append(gs.best_estimator_.C)"
   ]
  },
  {
   "cell_type": "code",
   "execution_count": 138,
   "metadata": {
    "collapsed": false
   },
   "outputs": [],
   "source": [
    "res = pd.DataFrame([accuracy, ['logistic_l1']*N])\n",
    "res = res.T\n",
    "res.columns = ['acc', 'classifier']\n",
    "results = results.append(res)"
   ]
  },
  {
   "cell_type": "markdown",
   "metadata": {},
   "source": [
    "## Linear SVC"
   ]
  },
  {
   "cell_type": "code",
   "execution_count": 139,
   "metadata": {
    "collapsed": false
   },
   "outputs": [],
   "source": [
    "N = 100\n",
    "accuracy = []\n",
    "alpha = []\n",
    "\n",
    "lr = LinearSVC(penalty='l2', loss='squared_hinge', dual=True, tol=0.0001, \n",
    "          fit_intercept=True, intercept_scaling=1, \n",
    "          class_weight=None, verbose=0, random_state=None, \n",
    "          max_iter=1000)\n",
    "\n",
    "params = {'C':np.logspace(-4,3,30)}\n",
    "gs = GridSearchCV(lr, param_grid=params, scoring='accuracy', n_jobs=4)\n"
   ]
  },
  {
   "cell_type": "code",
   "execution_count": 140,
   "metadata": {
    "collapsed": false
   },
   "outputs": [],
   "source": [
    "for i in range(N):\n",
    "\n",
    "    train, test = train_test_split(ds, train_size=0.9)\n",
    "    X_train = train.drop('replicate',1)\n",
    "    y_train = train.replicate\n",
    "    X_test = test.drop('replicate',1)\n",
    "    y_test = test.replicate\n",
    "    \n",
    "    gs.fit(X_train, y_train)\n",
    "    pred = gs.predict(X_test)\n",
    "    acc = accuracy_score(pred, y_test)\n",
    "    accuracy.append(acc)\n",
    "    alpha.append(gs.best_estimator_.C)"
   ]
  },
  {
   "cell_type": "code",
   "execution_count": 141,
   "metadata": {
    "collapsed": false
   },
   "outputs": [],
   "source": [
    "res = pd.DataFrame([accuracy, ['linear_SVC']*N])\n",
    "res = res.T\n",
    "res.columns = ['acc', 'classifier']\n",
    "results = results.append(res)"
   ]
  },
  {
   "cell_type": "markdown",
   "metadata": {},
   "source": [
    "## SVC"
   ]
  },
  {
   "cell_type": "code",
   "execution_count": 142,
   "metadata": {
    "collapsed": true
   },
   "outputs": [],
   "source": [
    "N = 100\n",
    "accuracy = []\n",
    "alpha = []\n",
    "\n",
    "lr = SVC(C=1.0, kernel='rbf', degree=3, gamma='auto', coef0=0.0, shrinking=True, \n",
    "         probability=False, tol=0.001, cache_size=200, class_weight=None, verbose=False,\n",
    "         max_iter=-1, decision_function_shape=None, random_state=None)\n",
    "\n",
    "params = {'C':np.logspace(-4,3,30)}\n",
    "gs = GridSearchCV(lr, param_grid=params, scoring='accuracy', n_jobs=4, cv=10)"
   ]
  },
  {
   "cell_type": "code",
   "execution_count": 143,
   "metadata": {
    "collapsed": true
   },
   "outputs": [],
   "source": [
    "for i in range(N):\n",
    "\n",
    "    train, test = train_test_split(ds, train_size=0.9)\n",
    "    X_train = train.drop('replicate',1)\n",
    "    y_train = train.replicate\n",
    "    X_test = test.drop('replicate',1)\n",
    "    y_test = test.replicate\n",
    "    \n",
    "    gs.fit(X_train, y_train)\n",
    "    pred = gs.predict(X_test)\n",
    "    acc = accuracy_score(pred, y_test)\n",
    "    accuracy.append(acc)\n",
    "    alpha.append(gs.best_estimator_.C)"
   ]
  },
  {
   "cell_type": "code",
   "execution_count": 144,
   "metadata": {
    "collapsed": false
   },
   "outputs": [],
   "source": [
    "res = pd.DataFrame([accuracy, ['SVC_radial']*N])\n",
    "res = res.T\n",
    "res.columns = ['acc', 'classifier']\n",
    "results = results.append(res)"
   ]
  },
  {
   "cell_type": "markdown",
   "metadata": {},
   "source": [
    "# Ensemble"
   ]
  },
  {
   "cell_type": "markdown",
   "metadata": {},
   "source": [
    "## Random Forest"
   ]
  },
  {
   "cell_type": "code",
   "execution_count": 145,
   "metadata": {
    "collapsed": false
   },
   "outputs": [],
   "source": [
    "N = 100\n",
    "accuracy = []\n",
    "alpha = []\n",
    "\n",
    "lr = RandomForestClassifier(n_estimators=10, criterion='gini', max_depth=None, \n",
    "                            min_samples_split=2, min_samples_leaf=1, min_weight_fraction_leaf=0.0, \n",
    "                            max_features='auto', max_leaf_nodes=None, bootstrap=True, oob_score=False,\n",
    "                            n_jobs=4, random_state=None, verbose=0, warm_start=False, class_weight=None)"
   ]
  },
  {
   "cell_type": "code",
   "execution_count": 146,
   "metadata": {
    "collapsed": true
   },
   "outputs": [],
   "source": [
    "for i in range(N):\n",
    "    train, test = train_test_split(ds, train_size=0.9)\n",
    "    X_train = train.drop('replicate',1)\n",
    "    y_train = train.replicate\n",
    "    X_test = test.drop('replicate',1)\n",
    "    y_test = test.replicate\n",
    "    \n",
    "    lr.fit(X_train, y_train)\n",
    "    pred = lr.predict(X_test)\n",
    "    acc = accuracy_score(pred, y_test)\n",
    "    accuracy.append(acc)\n"
   ]
  },
  {
   "cell_type": "code",
   "execution_count": 147,
   "metadata": {
    "collapsed": false
   },
   "outputs": [],
   "source": [
    "res = pd.DataFrame([accuracy, ['random_forest']*N])\n",
    "res = res.T\n",
    "res.columns = ['acc', 'classifier']\n",
    "results = results.append(res)"
   ]
  },
  {
   "cell_type": "markdown",
   "metadata": {},
   "source": [
    "## Adaboost"
   ]
  },
  {
   "cell_type": "code",
   "execution_count": 148,
   "metadata": {
    "collapsed": false
   },
   "outputs": [],
   "source": [
    "N = 100\n",
    "accuracy = []\n",
    "alpha = []\n",
    "\n",
    "lr = AdaBoostClassifier(base_estimator=None, n_estimators=100, learning_rate=1.0, algorithm='SAMME.R', random_state=None)\n"
   ]
  },
  {
   "cell_type": "code",
   "execution_count": 149,
   "metadata": {
    "collapsed": true
   },
   "outputs": [],
   "source": [
    "for i in range(N):\n",
    "\n",
    "    train, test = train_test_split(ds, train_size=0.9)\n",
    "    X_train = train.drop('replicate',1)\n",
    "    y_train = train.replicate\n",
    "    X_test = test.drop('replicate',1)\n",
    "    y_test = test.replicate\n",
    "    \n",
    "    lr.fit(X_train, y_train)\n",
    "    pred = lr.predict(X_test)\n",
    "    acc = accuracy_score(pred, y_test)\n",
    "    accuracy.append(acc)\n",
    "    "
   ]
  },
  {
   "cell_type": "code",
   "execution_count": 150,
   "metadata": {
    "collapsed": false
   },
   "outputs": [],
   "source": [
    "res = pd.DataFrame([accuracy, ['Adaboost']*N])\n",
    "res = res.T\n",
    "res.columns = ['acc', 'classifier']\n",
    "results = results.append(res)"
   ]
  },
  {
   "cell_type": "markdown",
   "metadata": {},
   "source": [
    "## Gradient Boosting"
   ]
  },
  {
   "cell_type": "code",
   "execution_count": 151,
   "metadata": {
    "collapsed": false
   },
   "outputs": [
    {
     "data": {
      "text/plain": [
       "GradientBoostingClassifier(init=None, learning_rate=0.1, loss='deviance',\n",
       "              max_depth=3, max_features=None, max_leaf_nodes=None,\n",
       "              min_samples_leaf=1, min_samples_split=2,\n",
       "              min_weight_fraction_leaf=0.0, n_estimators=100,\n",
       "              presort='auto', random_state=None, subsample=1.0, verbose=0,\n",
       "              warm_start=False)"
      ]
     },
     "execution_count": 151,
     "metadata": {},
     "output_type": "execute_result"
    }
   ],
   "source": [
    "N = 100\n",
    "accuracy = []\n",
    "alpha = []\n",
    "\n",
    "lr = GradientBoostingClassifier(loss='deviance', learning_rate=0.1, n_estimators=100, subsample=1.0, \n",
    "                                min_samples_split=2, min_samples_leaf=1, min_weight_fraction_leaf=0.0,\n",
    "                                max_depth=3, init=None, random_state=None, max_features=None, verbose=0,\n",
    "                                max_leaf_nodes=None, warm_start=False, presort='auto')\n",
    "lr.fit(X_train, y_train)\n"
   ]
  },
  {
   "cell_type": "code",
   "execution_count": 152,
   "metadata": {
    "collapsed": true
   },
   "outputs": [],
   "source": [
    "for i in range(N):\n",
    "    \n",
    "    train, test = train_test_split(ds, train_size=0.9)\n",
    "    X_train = train.drop('replicate',1)\n",
    "    y_train = train.replicate\n",
    "    X_test = test.drop('replicate',1)\n",
    "    y_test = test.replicate\n",
    "    \n",
    "    lr.fit(X_train, y_train)\n",
    "    pred = lr.predict(X_test)\n",
    "    acc = accuracy_score(pred, y_test)\n",
    "    accuracy.append(acc)"
   ]
  },
  {
   "cell_type": "code",
   "execution_count": 153,
   "metadata": {
    "collapsed": false
   },
   "outputs": [],
   "source": [
    "res = pd.DataFrame([accuracy, ['Gradient_Boosting']*N])\n",
    "res = res.T\n",
    "res.columns = ['acc', 'classifier']\n",
    "results = results.append(res)"
   ]
  },
  {
   "cell_type": "markdown",
   "metadata": {},
   "source": [
    "## Results"
   ]
  },
  {
   "cell_type": "code",
   "execution_count": null,
   "metadata": {
    "collapsed": true
   },
   "outputs": [],
   "source": [
    "for i in range(len(results.classifier.unique())):\n",
    "    \n",
    "    x = np.random.normal(i, 0.04, size=N)\n",
    "    y = results.acc[results.classifier == classifiers[i]].dropna()\n",
    "    \n",
    "    plot(x, y, 'r.', alpha=0.2)"
   ]
  },
  {
   "cell_type": "code",
   "execution_count": 311,
   "metadata": {
    "collapsed": false
   },
   "outputs": [],
   "source": [
    "final = pd.DataFrame(columns = results.classifier.unique())\n",
    "for clas in results.classifier.unique():\n",
    "    tmp = results[results.classifier == clas].acc\n",
    "    tmp.index = np.arange(len(tmp))    \n",
    "    final.loc[:,clas] = tmp\n",
    "    \n",
    "    \n"
   ]
  },
  {
   "cell_type": "code",
   "execution_count": 296,
   "metadata": {
    "collapsed": false
   },
   "outputs": [],
   "source": [
    "means = final.drop(['logistic_l1', 'SVC_radial', 'random_forest'],1).mean()"
   ]
  },
  {
   "cell_type": "code",
   "execution_count": 297,
   "metadata": {
    "collapsed": true
   },
   "outputs": [],
   "source": [
    "std = final.drop(['logistic_l1', 'SVC_radial', 'random_forest'],1).std()"
   ]
  },
  {
   "cell_type": "code",
   "execution_count": 298,
   "metadata": {
    "collapsed": false
   },
   "outputs": [
    {
     "data": {
      "text/plain": [
       "<matplotlib.axes._subplots.AxesSubplot at 0x7fb344c5c550>"
      ]
     },
     "execution_count": 298,
     "metadata": {},
     "output_type": "execute_result"
    },
    {
     "data": {
      "image/png": "[encoded data removed]",
      "text/plain": [
       "<matplotlib.figure.Figure at 0x7fb344bf1d10>"
      ]
     },
     "metadata": {},
     "output_type": "display_data"
    }
   ],
   "source": [
    "fig, ax = plt.subplots(figsize=(20,10))\n",
    "plt.ylabel('Accuracy', fontsize=25)\n",
    "plt.xlabel('Classifiers', fontsize=25)\n",
    "means.plot.bar(yerr=std, ax=ax, color=(0.5,0.4,0.5), fontsize=25, grid=True)"
   ]
  },
  {
   "cell_type": "code",
   "execution_count": 299,
   "metadata": {
    "collapsed": false
   },
   "outputs": [],
   "source": [
    "means = pd.Series([.68,.65, .62], index=['Naive Bayes', 'SVM TFIDF', 'SVM DFM'])\n",
    "std = pd.Series([.13, .13, .14],index=['Naive Bayes', 'SVM TFIDF', 'SVM DFM'])"
   ]
  },
  {
   "cell_type": "code",
   "execution_count": 300,
   "metadata": {
    "collapsed": false
   },
   "outputs": [
    {
     "data": {
      "text/plain": [
       "<matplotlib.axes._subplots.AxesSubplot at 0x7fb344a7d650>"
      ]
     },
     "execution_count": 300,
     "metadata": {},
     "output_type": "execute_result"
    },
    {
     "data": {
      "image/png": "[encoded data removed]",
      "text/plain": [
       "<matplotlib.figure.Figure at 0x7fb344a8fa50>"
      ]
     },
     "metadata": {},
     "output_type": "display_data"
    }
   ],
   "source": [
    "fig, ax = plt.subplots(figsize=(20,10))\n",
    "plt.ylabel('Accuracy', fontsize=25)\n",
    "plt.xlabel('Classifiers', fontsize=25)\n",
    "\n",
    "means.plot.bar(yerr=std, ax=ax, color=(0.5,0.4,0.5), fontsize=25, grid=True)"
   ]
  },
  {
   "cell_type": "markdown",
   "metadata": {},
   "source": [
    "## Ridge feature importance"
   ]
  },
  {
   "cell_type": "code",
   "execution_count": 318,
   "metadata": {
    "collapsed": false
   },
   "outputs": [],
   "source": [
    "lr = RidgeClassifier()\n",
    "params = {'alpha':np.logspace(-5,3,30)}\n",
    "gs = GridSearchCV(lr, param_grid=params, scoring='accuracy', n_jobs=4)\n",
    "\n",
    "coefs = []"
   ]
  },
  {
   "cell_type": "code",
   "execution_count": 320,
   "metadata": {
    "collapsed": false
   },
   "outputs": [],
   "source": [
    "for i in range(N):\n",
    "\n",
    "    train, test = train_test_split(ds, train_size=0.9)\n",
    "    X_train = train.drop('replicate',1)\n",
    "    y_train = train.replicate\n",
    "    X_test = test.drop('replicate',1)\n",
    "    y_test = test.replicate\n",
    "    \n",
    "    gs.fit(X_train, y_train)\n",
    "    coefs.append(gs.best_estimator_.coef_)\n",
    "    "
   ]
  },
  {
   "cell_type": "code",
   "execution_count": 359,
   "metadata": {
    "collapsed": false,
    "scrolled": false
   },
   "outputs": [],
   "source": [
    "features = ds.drop('replicate',1).columns"
   ]
  },
  {
   "cell_type": "code",
   "execution_count": 336,
   "metadata": {
    "collapsed": false
   },
   "outputs": [],
   "source": [
    "coefs_array = np.array([x[0] for x in coefs])\n",
    "coefs_ds = pd.DataFrame(coefs_array)\n",
    "coefs_sum = np.abs(coefs_ds).sum()"
   ]
  },
  {
   "cell_type": "code",
   "execution_count": 360,
   "metadata": {
    "collapsed": false
   },
   "outputs": [],
   "source": [
    "coefs_sum.index = features"
   ]
  },
  {
   "cell_type": "code",
   "execution_count": 369,
   "metadata": {
    "collapsed": false
   },
   "outputs": [
    {
     "data": {
      "text/plain": [
       "i          1255.466658\n",
       "we         1236.214745\n",
       "they       1206.595188\n",
       "shehe      1199.359474\n",
       "you        1172.457431\n",
       "ipron       637.496550\n",
       "pronoun     634.866243\n",
       "cause        32.348822\n",
       "cogproc      30.105413\n",
       "dtype: float64"
      ]
     },
     "execution_count": 369,
     "metadata": {},
     "output_type": "execute_result"
    }
   ],
   "source": [
    "coefs_sum.sort_values(ascending=False)[1:10]"
   ]
  },
  {
   "cell_type": "code",
   "execution_count": 366,
   "metadata": {
    "collapsed": false
   },
   "outputs": [],
   "source": [
    "np.sort?"
   ]
  },
  {
   "cell_type": "code",
   "execution_count": 347,
   "metadata": {
    "collapsed": false
   },
   "outputs": [
    {
     "data": {
      "text/plain": [
       "0        9.466394\n",
       "1        1.432184\n",
       "2        0.429843\n",
       "3        0.990664\n",
       "4        1.475195\n",
       "5        2.576890\n",
       "6       10.997367\n",
       "7        2.838716\n",
       "8      634.866243\n",
       "9     1876.309896\n",
       "10    1255.466658\n",
       "11    1236.214745\n",
       "12    1172.457431\n",
       "13    1199.359474\n",
       "14    1206.595188\n",
       "15     637.496550\n",
       "16      27.003025\n",
       "17       9.057597\n",
       "18       4.564944\n",
       "19      20.310042\n",
       "20      12.030358\n",
       "21       2.996093\n",
       "22      20.299795\n",
       "23      30.105413\n",
       "24      23.991567\n",
       "25      32.348822\n",
       "26      12.158852\n",
       "27      10.643013\n",
       "28      10.988773\n",
       "29       5.901316\n",
       "30       1.275287\n",
       "31       0.417664\n",
       "32       0.230046\n",
       "33       0.776569\n",
       "dtype: float64"
      ]
     },
     "execution_count": 347,
     "metadata": {},
     "output_type": "execute_result"
    }
   ],
   "source": [
    "coefs_abs.sum()"
   ]
  }
 ],
 "metadata": {
  "kernelspec": {
   "display_name": "Python 2",
   "language": "python",
   "name": "python2"
  },
  "language_info": {
   "codemirror_mode": {
    "name": "ipython",
    "version": 2
   },
   "file_extension": ".py",
   "mimetype": "text/x-python",
   "name": "python",
   "nbconvert_exporter": "python",
   "pygments_lexer": "ipython2",
   "version": "2.7.10"
  }
 },
 "nbformat": 4,
 "nbformat_minor": 0
}
