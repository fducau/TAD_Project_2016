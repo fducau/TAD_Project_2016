{
 "cells": [
  {
   "cell_type": "code",
   "execution_count": 29,
   "metadata": {
    "collapsed": false
   },
   "outputs": [],
   "source": [
    "import pandas as pd\n",
    "import numpy as np\n",
    "from sklearn.cross_validation import train_test_split\n",
    "from sklearn.linear_model import RidgeClassifier, LogisticRegression\n",
    "from sklearn.svm import LinearSVC, SVC\n",
    "from sklearn.ensemble import RandomForestClassifier\n",
    "from sklearn.ensemble import AdaBoostClassifier\n",
    "from sklearn.ensemble import GradientBoostingClassifier\n",
    "\n",
    "\n",
    "from sklearn.grid_search import GridSearchCV\n",
    "from sklearn.metrics import auc, accuracy_score, roc_auc_score, roc_curve\n",
    "import matplotlib.pyplot as plt\n",
    "from sklearn import cross_validation\n",
    "\n",
    "from scipy import stats  \n",
    "\n",
    "%matplotlib inline\n"
   ]
  },
  {
   "cell_type": "markdown",
   "metadata": {},
   "source": [
    "## Dataset preparation"
   ]
  },
  {
   "cell_type": "code",
   "execution_count": 2,
   "metadata": {
    "collapsed": false,
    "scrolled": true
   },
   "outputs": [],
   "source": [
    "index_ds = pd.read_csv('./index_ds.csv', index_col='Study.Num')"
   ]
  },
  {
   "cell_type": "code",
   "execution_count": 3,
   "metadata": {
    "collapsed": false
   },
   "outputs": [],
   "source": [
    "readability = pd.read_csv('./features/readability.csv', index_col='Study.Num')\n",
    "references = pd.read_csv('./features/references.csv', index_col='name')"
   ]
  },
  {
   "cell_type": "code",
   "execution_count": 4,
   "metadata": {
    "collapsed": false
   },
   "outputs": [],
   "source": [
    "liwc_features = ['Analytic',\n",
    "'Clout',\n",
    "'Authentic',\n",
    "'Tone',\n",
    "'WPS',\n",
    "'Sixltr',\n",
    "'Dic',\n",
    "'function.',\n",
    "'pronoun',\n",
    "'ppron',\n",
    "'i',\n",
    "'we',\n",
    "'you',\n",
    "'shehe',\n",
    "'they',\n",
    "'ipron',\n",
    "'prep',\n",
    "'adverb',\n",
    "'conj',\n",
    "'negate',\n",
    "'compare',\n",
    "'number',\n",
    "'quant',\n",
    "'cogproc',\n",
    "'insight',\n",
    "'cause',\n",
    "'discrep',\n",
    "'tentat',\n",
    "'certain',\n",
    "'differ']"
   ]
  },
  {
   "cell_type": "code",
   "execution_count": 53,
   "metadata": {
    "collapsed": true
   },
   "outputs": [],
   "source": [
    "drop_cols = []\n",
    "for col in index_ds.columns:\n",
    "    if (col not in liwc_features) and (col!='replicate'):\n",
    "        drop_cols.append(col)"
   ]
  },
  {
   "cell_type": "code",
   "execution_count": 54,
   "metadata": {
    "collapsed": true
   },
   "outputs": [],
   "source": [
    "index_ds = index_ds.drop(drop_cols,1)"
   ]
  },
  {
   "cell_type": "code",
   "execution_count": 55,
   "metadata": {
    "collapsed": false
   },
   "outputs": [],
   "source": [
    "ds = index_ds.merge(readability, left_index=True, right_index=True)\n",
    "ds = ds.merge(references, left_index=True, right_index=True)"
   ]
  },
  {
   "cell_type": "code",
   "execution_count": 56,
   "metadata": {
    "collapsed": true
   },
   "outputs": [],
   "source": [
    "results = pd.DataFrame(columns=['acc', 'classifier'])"
   ]
  },
  {
   "cell_type": "markdown",
   "metadata": {},
   "source": [
    "## Ridge Classifier"
   ]
  },
  {
   "cell_type": "code",
   "execution_count": 57,
   "metadata": {
    "collapsed": true
   },
   "outputs": [],
   "source": [
    "N = 100\n",
    "accuracy = []\n",
    "alpha = []"
   ]
  },
  {
   "cell_type": "code",
   "execution_count": 58,
   "metadata": {
    "collapsed": true
   },
   "outputs": [],
   "source": [
    "lr = RidgeClassifier()\n",
    "params = {'alpha':np.logspace(-5,3,30)}\n",
    "gs = GridSearchCV(lr, param_grid=params, scoring='accuracy', n_jobs=6, cv=10)"
   ]
  },
  {
   "cell_type": "code",
   "execution_count": 59,
   "metadata": {
    "collapsed": false
   },
   "outputs": [],
   "source": [
    "for i in range(N):\n",
    "\n",
    "    train, test = train_test_split(ds, train_size=0.9)\n",
    "    X_train = train.drop('replicate',1)\n",
    "    y_train = train.replicate\n",
    "    X_test = test.drop('replicate',1)\n",
    "    y_test = test.replicate\n",
    "    \n",
    "    gs.fit(X_train, y_train)\n",
    "    pred = gs.predict(X_test)\n",
    "    acc = accuracy_score(pred, y_test)\n",
    "    accuracy.append(acc)\n",
    "    alpha.append(gs.best_estimator_.alpha)\n",
    "    "
   ]
  },
  {
   "cell_type": "code",
   "execution_count": 60,
   "metadata": {
    "collapsed": false
   },
   "outputs": [],
   "source": [
    "res = pd.DataFrame([accuracy, ['ridge']*N])\n",
    "res = res.T\n",
    "res.columns = ['acc', 'classifier']\n",
    "results = results.append(res)"
   ]
  },
  {
   "cell_type": "code",
   "execution_count": 99,
   "metadata": {
    "collapsed": false
   },
   "outputs": [
    {
     "data": {
      "text/plain": [
       "[<matplotlib.lines.Line2D at 0x7fe2db1b8190>]"
      ]
     },
     "execution_count": 99,
     "metadata": {},
     "output_type": "execute_result"
    },
    {
     "data": {
      "image/png": "[encoded data removed]",
      "text/plain": [
       "<matplotlib.figure.Figure at 0x7fe2db191f90>"
      ]
     },
     "metadata": {},
     "output_type": "display_data"
    }
   ],
   "source": [
    "fig, ax = plt.subplots(figsize=(20,10))\n",
    "plt.xlabel('Classifier Accuracy', fontsize=25)\n",
    "plt.ylabel('Counts', fontsize=25)\n",
    "plt.xticks(fontsize=25)\n",
    "plt.yticks(fontsize=25)\n",
    "plt.grid()\n",
    "plt.hist(accuracy, normed=True, bins=10, rwidth=None, log=False, color=(0.5,0.4,0.5), \n",
    "         label=None, stacked=False, hold=None, data=None)\n",
    "xt = plt.xticks()[0]  \n",
    "xmin, xmax = min(xt), max(xt)  \n",
    "lnspc = np.linspace(xmin, xmax, len(accuracy))\n",
    "\n",
    "pdf_g = stats.norm.pdf(lnspc, np.mean(accuracy), np.std(accuracy)) # now get theoretical values in our interval  \n",
    "plt.plot(lnspc, pdf_g, label=\"Norm\", lw=3, color='r') # plot it"
   ]
  },
  {
   "cell_type": "markdown",
   "metadata": {},
   "source": [
    "## Logistic L2"
   ]
  },
  {
   "cell_type": "code",
   "execution_count": 62,
   "metadata": {
    "collapsed": true
   },
   "outputs": [],
   "source": [
    "accuracy = []\n",
    "alpha = []"
   ]
  },
  {
   "cell_type": "code",
   "execution_count": 63,
   "metadata": {
    "collapsed": true
   },
   "outputs": [],
   "source": [
    "lr = LogisticRegression(penalty='l2')\n",
    "params = {'C':np.logspace(-4,3,30)}\n",
    "gs = GridSearchCV(lr, param_grid=params, scoring='accuracy', n_jobs=6, cv=10)"
   ]
  },
  {
   "cell_type": "code",
   "execution_count": 64,
   "metadata": {
    "collapsed": false
   },
   "outputs": [],
   "source": [
    "for i in range(N):\n",
    "\n",
    "    train, test = train_test_split(ds, train_size=0.9)\n",
    "    X_train = train.drop('replicate',1)\n",
    "    y_train = train.replicate\n",
    "    X_test = test.drop('replicate',1)\n",
    "    y_test = test.replicate\n",
    "    \n",
    "    gs.fit(X_train, y_train)\n",
    "    pred = gs.predict(X_test)\n",
    "    acc = accuracy_score(pred, y_test)\n",
    "    accuracy.append(acc)\n",
    "    alpha.append(gs.best_estimator_.C)"
   ]
  },
  {
   "cell_type": "code",
   "execution_count": 65,
   "metadata": {
    "collapsed": false
   },
   "outputs": [],
   "source": [
    "res = pd.DataFrame([accuracy, ['logistic_l2']*N])\n",
    "res = res.T\n",
    "res.columns = ['acc', 'classifier']\n",
    "results = results.append(res)"
   ]
  },
  {
   "cell_type": "markdown",
   "metadata": {},
   "source": [
    "## Logistic L1"
   ]
  },
  {
   "cell_type": "code",
   "execution_count": 66,
   "metadata": {
    "collapsed": true
   },
   "outputs": [],
   "source": [
    "lr = LogisticRegression(penalty='l1')\n",
    "params = {'C':np.logspace(-4,3,30)}\n",
    "gs = GridSearchCV(lr, param_grid=params, scoring='accuracy', n_jobs=6, cv=10)\n",
    "N = 50\n",
    "accuracy = []\n",
    "alpha = []"
   ]
  },
  {
   "cell_type": "code",
   "execution_count": 67,
   "metadata": {
    "collapsed": false
   },
   "outputs": [],
   "source": [
    "for i in range(N):\n",
    "\n",
    "    train, test = train_test_split(ds, train_size=0.9)\n",
    "    X_train = train.drop('replicate',1)\n",
    "    y_train = train.replicate\n",
    "    X_test = test.drop('replicate',1)\n",
    "    y_test = test.replicate\n",
    "    \n",
    "    gs.fit(X_train, y_train)\n",
    "    pred = gs.predict(X_test)\n",
    "    acc = accuracy_score(pred, y_test)\n",
    "    accuracy.append(acc)\n",
    "    alpha.append(gs.best_estimator_.C)"
   ]
  },
  {
   "cell_type": "code",
   "execution_count": 68,
   "metadata": {
    "collapsed": false
   },
   "outputs": [],
   "source": [
    "res = pd.DataFrame([accuracy, ['logistic_l1']*N])\n",
    "res = res.T\n",
    "res.columns = ['acc', 'classifier']\n",
    "results = results.append(res)"
   ]
  },
  {
   "cell_type": "markdown",
   "metadata": {},
   "source": [
    "## Linear SVC"
   ]
  },
  {
   "cell_type": "code",
   "execution_count": 69,
   "metadata": {
    "collapsed": false
   },
   "outputs": [],
   "source": [
    "N = 100\n",
    "accuracy = []\n",
    "alpha = []\n",
    "\n",
    "lr = LinearSVC(penalty='l2', loss='squared_hinge', dual=True, tol=0.0001, \n",
    "          fit_intercept=True, intercept_scaling=1, \n",
    "          class_weight=None, verbose=0, random_state=None, \n",
    "          max_iter=1000)\n",
    "\n",
    "params = {'C':np.logspace(-4,3,30)}\n",
    "gs = GridSearchCV(lr, param_grid=params, scoring='accuracy', n_jobs=6, cv=10)\n"
   ]
  },
  {
   "cell_type": "code",
   "execution_count": 70,
   "metadata": {
    "collapsed": false
   },
   "outputs": [],
   "source": [
    "for i in range(N):\n",
    "\n",
    "    train, test = train_test_split(ds, train_size=0.9)\n",
    "    X_train = train.drop('replicate',1)\n",
    "    y_train = train.replicate\n",
    "    X_test = test.drop('replicate',1)\n",
    "    y_test = test.replicate\n",
    "    \n",
    "    gs.fit(X_train, y_train)\n",
    "    pred = gs.predict(X_test)\n",
    "    acc = accuracy_score(pred, y_test)\n",
    "    accuracy.append(acc)\n",
    "    alpha.append(gs.best_estimator_.C)"
   ]
  },
  {
   "cell_type": "code",
   "execution_count": 71,
   "metadata": {
    "collapsed": false
   },
   "outputs": [],
   "source": [
    "res = pd.DataFrame([accuracy, ['linear_SVC']*N])\n",
    "res = res.T\n",
    "res.columns = ['acc', 'classifier']\n",
    "results = results.append(res)"
   ]
  },
  {
   "cell_type": "markdown",
   "metadata": {},
   "source": [
    "## SVC"
   ]
  },
  {
   "cell_type": "code",
   "execution_count": 72,
   "metadata": {
    "collapsed": true
   },
   "outputs": [],
   "source": [
    "N = 100\n",
    "accuracy = []\n",
    "alpha = []\n",
    "\n",
    "lr = SVC(C=1.0, kernel='rbf', degree=3, gamma='auto', coef0=0.0, shrinking=True, \n",
    "         probability=False, tol=0.001, cache_size=200, class_weight=None, verbose=False,\n",
    "         max_iter=-1, decision_function_shape=None, random_state=None)\n",
    "\n",
    "params = {'C':np.logspace(-4,3,30)}\n",
    "gs = GridSearchCV(lr, param_grid=params, scoring='accuracy', n_jobs=6, cv=10)"
   ]
  },
  {
   "cell_type": "code",
   "execution_count": 73,
   "metadata": {
    "collapsed": true
   },
   "outputs": [],
   "source": [
    "for i in range(N):\n",
    "\n",
    "    train, test = train_test_split(ds, train_size=0.9)\n",
    "    X_train = train.drop('replicate',1)\n",
    "    y_train = train.replicate\n",
    "    X_test = test.drop('replicate',1)\n",
    "    y_test = test.replicate\n",
    "    \n",
    "    gs.fit(X_train, y_train)\n",
    "    pred = gs.predict(X_test)\n",
    "    acc = accuracy_score(pred, y_test)\n",
    "    accuracy.append(acc)\n",
    "    alpha.append(gs.best_estimator_.C)"
   ]
  },
  {
   "cell_type": "code",
   "execution_count": 74,
   "metadata": {
    "collapsed": false
   },
   "outputs": [],
   "source": [
    "res = pd.DataFrame([accuracy, ['SVC_radial']*N])\n",
    "res = res.T\n",
    "res.columns = ['acc', 'classifier']\n",
    "results = results.append(res)"
   ]
  },
  {
   "cell_type": "markdown",
   "metadata": {},
   "source": [
    "# Ensemble"
   ]
  },
  {
   "cell_type": "markdown",
   "metadata": {},
   "source": [
    "## Random Forest"
   ]
  },
  {
   "cell_type": "code",
   "execution_count": 75,
   "metadata": {
    "collapsed": false
   },
   "outputs": [],
   "source": [
    "N = 100\n",
    "accuracy = []\n",
    "alpha = []\n",
    "\n",
    "lr = RandomForestClassifier(n_estimators=10, criterion='gini', max_depth=None, \n",
    "                            min_samples_split=2, min_samples_leaf=1, min_weight_fraction_leaf=0.0, \n",
    "                            max_features='auto', max_leaf_nodes=None, bootstrap=True, oob_score=False,\n",
    "                            n_jobs=4, random_state=None, verbose=0, warm_start=False, class_weight=None)"
   ]
  },
  {
   "cell_type": "code",
   "execution_count": 76,
   "metadata": {
    "collapsed": true
   },
   "outputs": [],
   "source": [
    "for i in range(N):\n",
    "    train, test = train_test_split(ds, train_size=0.9)\n",
    "    X_train = train.drop('replicate',1)\n",
    "    y_train = train.replicate\n",
    "    X_test = test.drop('replicate',1)\n",
    "    y_test = test.replicate\n",
    "    \n",
    "    lr.fit(X_train, y_train)\n",
    "    pred = lr.predict(X_test)\n",
    "    acc = accuracy_score(pred, y_test)\n",
    "    accuracy.append(acc)\n"
   ]
  },
  {
   "cell_type": "code",
   "execution_count": 77,
   "metadata": {
    "collapsed": false
   },
   "outputs": [],
   "source": [
    "res = pd.DataFrame([accuracy, ['random_forest']*N])\n",
    "res = res.T\n",
    "res.columns = ['acc', 'classifier']\n",
    "results = results.append(res)"
   ]
  },
  {
   "cell_type": "markdown",
   "metadata": {},
   "source": [
    "## Adaboost"
   ]
  },
  {
   "cell_type": "code",
   "execution_count": 95,
   "metadata": {
    "collapsed": false
   },
   "outputs": [],
   "source": [
    "N = 100\n",
    "accuracy = []\n",
    "alpha = []\n",
    "\n",
    "lr = AdaBoostClassifier(base_estimator=None, n_estimators=100, learning_rate=1.0, algorithm='SAMME.R', random_state=None)\n"
   ]
  },
  {
   "cell_type": "code",
   "execution_count": 96,
   "metadata": {
    "collapsed": true
   },
   "outputs": [],
   "source": [
    "for i in range(N):\n",
    "\n",
    "    train, test = train_test_split(ds, train_size=0.9)\n",
    "    X_train = train.drop('replicate',1)\n",
    "    y_train = train.replicate\n",
    "    X_test = test.drop('replicate',1)\n",
    "    y_test = test.replicate\n",
    "    \n",
    "    lr.fit(X_train, y_train)\n",
    "    pred = lr.predict(X_test)\n",
    "    acc = accuracy_score(pred, y_test)\n",
    "    accuracy.append(acc)\n",
    "    "
   ]
  },
  {
   "cell_type": "code",
   "execution_count": 97,
   "metadata": {
    "collapsed": false
   },
   "outputs": [
    {
     "data": {
      "text/plain": [
       "0.60166666666666668"
      ]
     },
     "execution_count": 97,
     "metadata": {},
     "output_type": "execute_result"
    }
   ],
   "source": [
    "np.mean(accuracy)"
   ]
  },
  {
   "cell_type": "code",
   "execution_count": 80,
   "metadata": {
    "collapsed": false
   },
   "outputs": [],
   "source": [
    "res = pd.DataFrame([accuracy, ['Adaboost']*N])\n",
    "res = res.T\n",
    "res.columns = ['acc', 'classifier']\n",
    "results = results.append(res)"
   ]
  },
  {
   "cell_type": "markdown",
   "metadata": {},
   "source": [
    "## Gradient Boosting"
   ]
  },
  {
   "cell_type": "code",
   "execution_count": 92,
   "metadata": {
    "collapsed": false
   },
   "outputs": [
    {
     "data": {
      "text/plain": [
       "GradientBoostingClassifier(init=None, learning_rate=0.1, loss='deviance',\n",
       "              max_depth=3, max_features=None, max_leaf_nodes=None,\n",
       "              min_samples_leaf=1, min_samples_split=2,\n",
       "              min_weight_fraction_leaf=0.0, n_estimators=100,\n",
       "              presort='auto', random_state=None, subsample=1.0, verbose=0,\n",
       "              warm_start=False)"
      ]
     },
     "execution_count": 92,
     "metadata": {},
     "output_type": "execute_result"
    }
   ],
   "source": [
    "N = 100\n",
    "accuracy = []\n",
    "alpha = []\n",
    "\n",
    "lr = GradientBoostingClassifier(loss='deviance', learning_rate=0.1, n_estimators=100, subsample=1.0, \n",
    "                                min_samples_split=2, min_samples_leaf=1, min_weight_fraction_leaf=0.0,\n",
    "                                max_depth=3, init=None, random_state=None, max_features=None, verbose=0,\n",
    "                                max_leaf_nodes=None, warm_start=False, presort='auto')\n",
    "lr.fit(X_train, y_train)\n"
   ]
  },
  {
   "cell_type": "code",
   "execution_count": 93,
   "metadata": {
    "collapsed": true
   },
   "outputs": [],
   "source": [
    "for i in range(N):\n",
    "    \n",
    "    train, test = train_test_split(ds, train_size=0.9)\n",
    "    X_train = train.drop('replicate',1)\n",
    "    y_train = train.replicate\n",
    "    X_test = test.drop('replicate',1)\n",
    "    y_test = test.replicate\n",
    "    \n",
    "    lr.fit(X_train, y_train)\n",
    "    pred = lr.predict(X_test)\n",
    "    acc = accuracy_score(pred, y_test)\n",
    "    accuracy.append(acc)"
   ]
  },
  {
   "cell_type": "code",
   "execution_count": 83,
   "metadata": {
    "collapsed": false
   },
   "outputs": [],
   "source": [
    "res = pd.DataFrame([accuracy, ['Gradient_Boosting']*N])\n",
    "res = res.T\n",
    "res.columns = ['acc', 'classifier']\n",
    "results = results.append(res)"
   ]
  },
  {
   "cell_type": "markdown",
   "metadata": {},
   "source": [
    "## Results"
   ]
  },
  {
   "cell_type": "code",
   "execution_count": 85,
   "metadata": {
    "collapsed": false
   },
   "outputs": [],
   "source": [
    "final = pd.DataFrame(columns = results.classifier.unique())\n",
    "for clas in results.classifier.unique():\n",
    "    tmp = results[results.classifier == clas].acc\n",
    "    tmp.index = np.arange(len(tmp))    \n",
    "    final.loc[:,clas] = tmp\n",
    "    \n",
    "    \n"
   ]
  },
  {
   "cell_type": "code",
   "execution_count": 86,
   "metadata": {
    "collapsed": false
   },
   "outputs": [],
   "source": [
    "means = final.drop(['logistic_l1', 'SVC_radial', 'random_forest'],1).mean()"
   ]
  },
  {
   "cell_type": "code",
   "execution_count": 87,
   "metadata": {
    "collapsed": true
   },
   "outputs": [],
   "source": [
    "std = final.drop(['logistic_l1', 'SVC_radial', 'random_forest'],1).std()"
   ]
  },
  {
   "cell_type": "code",
   "execution_count": 88,
   "metadata": {
    "collapsed": false
   },
   "outputs": [
    {
     "data": {
      "text/plain": [
       "<matplotlib.axes._subplots.AxesSubplot at 0x7fe2db525d90>"
      ]
     },
     "execution_count": 88,
     "metadata": {},
     "output_type": "execute_result"
    },
    {
     "data": {
      "image/png": "[encoded data removed]",
      "text/plain": [
       "<matplotlib.figure.Figure at 0x7fe2db3d5990>"
      ]
     },
     "metadata": {},
     "output_type": "display_data"
    }
   ],
   "source": [
    "fig, ax = plt.subplots(figsize=(20,10))\n",
    "plt.ylabel('Accuracy', fontsize=25)\n",
    "plt.xlabel('Classifiers', fontsize=25)\n",
    "means.plot.bar(yerr=std, ax=ax, color=(0.5,0.4,0.5), fontsize=25, grid=True, lw=2.5)"
   ]
  },
  {
   "cell_type": "code",
   "execution_count": 49,
   "metadata": {
    "collapsed": false
   },
   "outputs": [],
   "source": [
    "means = pd.Series([.68,.65, .62], index=['Naive Bayes', 'SVM TFIDF', 'SVM DFM'])\n",
    "std = pd.Series([.13, .13, .14],index=['Naive Bayes', 'SVM TFIDF', 'SVM DFM'])"
   ]
  },
  {
   "cell_type": "code",
   "execution_count": 52,
   "metadata": {
    "collapsed": false
   },
   "outputs": [
    {
     "data": {
      "text/plain": [
       "<matplotlib.axes._subplots.AxesSubplot at 0x7fe2db17d6d0>"
      ]
     },
     "execution_count": 52,
     "metadata": {},
     "output_type": "execute_result"
    },
    {
     "data": {
      "image/png": "[encoded data removed]",
      "text/plain": [
       "<matplotlib.figure.Figure at 0x7fe2dab48750>"
      ]
     },
     "metadata": {},
     "output_type": "display_data"
    }
   ],
   "source": [
    "fig, ax = plt.subplots(figsize=(20,10))\n",
    "plt.ylabel('Accuracy', fontsize=25)\n",
    "plt.xlabel('Classifiers', fontsize=25)\n",
    "\n",
    "means.plot.bar(yerr=std, ax=ax, color=(0.5,0.4,0.5), fontsize=25, grid=True, lw=2.5)"
   ]
  },
  {
   "cell_type": "markdown",
   "metadata": {},
   "source": [
    "## Ridge feature importance"
   ]
  },
  {
   "cell_type": "code",
   "execution_count": 318,
   "metadata": {
    "collapsed": false
   },
   "outputs": [],
   "source": [
    "lr = RidgeClassifier()\n",
    "params = {'alpha':np.logspace(-5,3,30)}\n",
    "gs = GridSearchCV(lr, param_grid=params, scoring='accuracy', n_jobs=4)\n",
    "\n",
    "coefs = []"
   ]
  },
  {
   "cell_type": "code",
   "execution_count": 320,
   "metadata": {
    "collapsed": false
   },
   "outputs": [],
   "source": [
    "for i in range(N):\n",
    "\n",
    "    train, test = train_test_split(ds, train_size=0.9)\n",
    "    X_train = train.drop('replicate',1)\n",
    "    y_train = train.replicate\n",
    "    X_test = test.drop('replicate',1)\n",
    "    y_test = test.replicate\n",
    "    \n",
    "    gs.fit(X_train, y_train)\n",
    "    coefs.append(gs.best_estimator_.coef_)\n",
    "    "
   ]
  },
  {
   "cell_type": "code",
   "execution_count": 359,
   "metadata": {
    "collapsed": false,
    "scrolled": false
   },
   "outputs": [],
   "source": [
    "features = ds.drop('replicate',1).columns"
   ]
  },
  {
   "cell_type": "code",
   "execution_count": 336,
   "metadata": {
    "collapsed": false
   },
   "outputs": [],
   "source": [
    "coefs_array = np.array([x[0] for x in coefs])\n",
    "coefs_ds = pd.DataFrame(coefs_array)\n",
    "coefs_sum = np.abs(coefs_ds).sum()"
   ]
  },
  {
   "cell_type": "code",
   "execution_count": 360,
   "metadata": {
    "collapsed": false
   },
   "outputs": [],
   "source": [
    "coefs_sum.index = features"
   ]
  },
  {
   "cell_type": "code",
   "execution_count": 369,
   "metadata": {
    "collapsed": false
   },
   "outputs": [
    {
     "data": {
      "text/plain": [
       "i          1255.466658\n",
       "we         1236.214745\n",
       "they       1206.595188\n",
       "shehe      1199.359474\n",
       "you        1172.457431\n",
       "ipron       637.496550\n",
       "pronoun     634.866243\n",
       "cause        32.348822\n",
       "cogproc      30.105413\n",
       "dtype: float64"
      ]
     },
     "execution_count": 369,
     "metadata": {},
     "output_type": "execute_result"
    }
   ],
   "source": [
    "coefs_sum.sort_values(ascending=False)[1:10]"
   ]
  }
 ],
 "metadata": {
  "kernelspec": {
   "display_name": "Python 2",
   "language": "python",
   "name": "python2"
  },
  "language_info": {
   "codemirror_mode": {
    "name": "ipython",
    "version": 2
   },
   "file_extension": ".py",
   "mimetype": "text/x-python",
   "name": "python",
   "nbconvert_exporter": "python",
   "pygments_lexer": "ipython2",
   "version": "2.7.10"
  }
 },
 "nbformat": 4,
 "nbformat_minor": 0
}
